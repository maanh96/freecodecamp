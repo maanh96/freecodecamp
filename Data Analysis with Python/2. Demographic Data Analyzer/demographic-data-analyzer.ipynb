{
 "cells": [
  {
   "cell_type": "markdown",
   "metadata": {},
   "source": [
    "## Demographic Data Analyzer"
   ]
  },
  {
   "cell_type": "code",
   "execution_count": 1,
   "metadata": {},
   "outputs": [],
   "source": [
    "# import libraries\n",
    "import numpy as np\n",
    "import pandas as pd"
   ]
  },
  {
   "cell_type": "code",
   "execution_count": 2,
   "metadata": {},
   "outputs": [],
   "source": [
    "# Read data from file\n",
    "df = pd.read_csv('adult.data.csv')"
   ]
  },
  {
   "cell_type": "markdown",
   "metadata": {},
   "source": [
    "How many people of each race are represented in this dataset? This should be a Pandas series with race names as the index labels. (`race` column)"
   ]
  },
  {
   "cell_type": "code",
   "execution_count": 10,
   "metadata": {},
   "outputs": [
    {
     "name": "stdout",
     "output_type": "stream",
     "text": [
      "Number of each race:\n",
      " White                 27816\n",
      "Black                  3124\n",
      "Asian-Pac-Islander     1039\n",
      "Amer-Indian-Eskimo      311\n",
      "Other                   271\n",
      "Name: race, dtype: int64\n"
     ]
    }
   ],
   "source": [
    "race_count = df['race'].value_counts()\n",
    "print(\"Number of each race:\\n\", race_count)"
   ]
  },
  {
   "cell_type": "markdown",
   "metadata": {},
   "source": [
    "What is the average age of men?"
   ]
  },
  {
   "cell_type": "code",
   "execution_count": 11,
   "metadata": {},
   "outputs": [
    {
     "name": "stdout",
     "output_type": "stream",
     "text": [
      "Average age of men: 39.4\n"
     ]
    }
   ],
   "source": [
    "average_age_men = round(df[df['sex'] == 'Male']['age'].mean(), 1)\n",
    "print(\"Average age of men:\", average_age_men)"
   ]
  },
  {
   "cell_type": "markdown",
   "metadata": {},
   "source": [
    "What is the percentage of people who have a Bachelor's degree?"
   ]
  },
  {
   "cell_type": "code",
   "execution_count": 12,
   "metadata": {},
   "outputs": [
    {
     "name": "stdout",
     "output_type": "stream",
     "text": [
      "Percentage with Bachelors degrees: 16.4%\n"
     ]
    }
   ],
   "source": [
    "percentage_bachelors = round(df['education'].value_counts(normalize=True)['Bachelors']*100, 1)\n",
    "print(f\"Percentage with Bachelors degrees: {percentage_bachelors}%\")"
   ]
  },
  {
   "cell_type": "markdown",
   "metadata": {},
   "source": [
    "What percentage of people with advanced education (`Bachelors`, `Masters`, or `Doctorate`) make more than 50K? What percentage of people without advanced education make more than 50K?"
   ]
  },
  {
   "cell_type": "code",
   "execution_count": 14,
   "metadata": {},
   "outputs": [
    {
     "name": "stdout",
     "output_type": "stream",
     "text": [
      "Percentage with higher education that earn >50K: 46.5%\n",
      "Percentage without higher education that earn >50K: 17.4%\n"
     ]
    }
   ],
   "source": [
    "# with and without `Bachelors`, `Masters`, or `Doctorate`\n",
    "higher_education = df[df['education'].isin(['Bachelors', 'Masters', 'Doctorate'])]\n",
    "lower_education = df[~df['education'].isin(['Bachelors', 'Masters', 'Doctorate'])]\n",
    "\n",
    "# percentage with salary >50K\n",
    "higher_education_rich = round(higher_education['salary'].value_counts(normalize=True)['>50K']*100, 1)\n",
    "lower_education_rich = round(lower_education['salary'].value_counts(normalize=True)['>50K']*100, 1)\n",
    "\n",
    "print(f\"Percentage with higher education that earn >50K: {higher_education_rich}%\")\n",
    "print(f\"Percentage without higher education that earn >50K: {lower_education_rich}%\")"
   ]
  },
  {
   "cell_type": "markdown",
   "metadata": {},
   "source": [
    "What is the minimum number of hours a person works per week (hours-per-week feature)?"
   ]
  },
  {
   "cell_type": "code",
   "execution_count": 15,
   "metadata": {},
   "outputs": [
    {
     "name": "stdout",
     "output_type": "stream",
     "text": [
      "Min work time: 1 hours/week\n"
     ]
    }
   ],
   "source": [
    "min_work_hours = df['hours-per-week'].min()\n",
    "print(f\"Min work time: {min_work_hours} hours/week\")"
   ]
  },
  {
   "cell_type": "markdown",
   "metadata": {},
   "source": [
    "What percentage of the people who work the minimum number of hours per week have a salary of >50K?"
   ]
  },
  {
   "cell_type": "code",
   "execution_count": 16,
   "metadata": {},
   "outputs": [
    {
     "name": "stdout",
     "output_type": "stream",
     "text": [
      "Percentage of rich among those who work fewest hours: 10.0%\n"
     ]
    }
   ],
   "source": [
    "num_min_workers = df[df['hours-per-week'] == min_work_hours]\n",
    "rich_percentage = round(num_min_workers['salary'].value_counts(normalize=True)['>50K']*100, 1)\n",
    "print(f\"Percentage of rich among those who work fewest hours: {rich_percentage}%\")"
   ]
  },
  {
   "cell_type": "markdown",
   "metadata": {},
   "source": [
    "What country has the highest percentage of people that earn >50K?"
   ]
  },
  {
   "cell_type": "code",
   "execution_count": 17,
   "metadata": {},
   "outputs": [
    {
     "name": "stdout",
     "output_type": "stream",
     "text": [
      "Country with highest percentage of rich: Iran\n",
      "Highest percentage of rich people in country: 41.9%\n"
     ]
    }
   ],
   "source": [
    "highest_earning_country = (df['native-country'][df['salary'] == '>50K'].value_counts() / df['native-country'].value_counts() * 100).idxmax()\n",
    "highest_earning_country_percentage = round((df['native-country'][df['salary'] == '>50K'].value_counts() / df['native-country'].value_counts() * 100)[highest_earning_country], 1)\n",
    "print(\"Country with highest percentage of rich:\", highest_earning_country)\n",
    "print(f\"Highest percentage of rich people in country: {highest_earning_country_percentage}%\")"
   ]
  },
  {
   "cell_type": "markdown",
   "metadata": {},
   "source": [
    "Identify the most popular occupation for those who earn >50K in India."
   ]
  },
  {
   "cell_type": "code",
   "execution_count": 18,
   "metadata": {},
   "outputs": [
    {
     "name": "stdout",
     "output_type": "stream",
     "text": [
      "Top occupations in India: Prof-specialty\n"
     ]
    }
   ],
   "source": [
    "top_IN_occupation = df[(df['native-country'] == 'India') & (df['salary'] == '>50K')]['occupation'].value_counts().index[0]\n",
    "print(\"Top occupations in India:\", top_IN_occupation)"
   ]
  }
 ],
 "metadata": {
  "kernelspec": {
   "display_name": "Python 3.9.7 ('base')",
   "language": "python",
   "name": "python3"
  },
  "language_info": {
   "codemirror_mode": {
    "name": "ipython",
    "version": 3
   },
   "file_extension": ".py",
   "mimetype": "text/x-python",
   "name": "python",
   "nbconvert_exporter": "python",
   "pygments_lexer": "ipython3",
   "version": "3.9.12"
  },
  "orig_nbformat": 4,
  "vscode": {
   "interpreter": {
    "hash": "960f2ae499b536958d588fcafb5f9e40dd995fc898e4b79db932caf22756042a"
   }
  }
 },
 "nbformat": 4,
 "nbformat_minor": 2
}
