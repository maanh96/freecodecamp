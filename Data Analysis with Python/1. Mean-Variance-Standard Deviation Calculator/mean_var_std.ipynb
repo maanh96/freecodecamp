{
 "cells": [
  {
   "cell_type": "code",
   "execution_count": 1,
   "metadata": {},
   "outputs": [],
   "source": [
    "# import library\n",
    "import numpy as np"
   ]
  },
  {
   "cell_type": "code",
   "execution_count": 2,
   "metadata": {},
   "outputs": [],
   "source": [
    "# create function\n",
    "def calculate(list):\n",
    "  try:\n",
    "    arr = np.array(list).reshape(3, 3)\n",
    "\n",
    "    # calculate mean\n",
    "    mean1 = arr.mean(axis=0).tolist()\n",
    "    mean2 = arr.mean(axis=1).tolist()\n",
    "    mean3 = arr.mean()\n",
    "\n",
    "    # calculate variance\n",
    "    var1 = arr.var(axis=0).tolist()\n",
    "    var2 = arr.var(axis=1).tolist()\n",
    "    var3 = arr.var() \n",
    "\n",
    "    # calculate standard deviation\n",
    "    sd1 = arr.std(axis=0).tolist()\n",
    "    sd2 = arr.std(axis=1).tolist()\n",
    "    sd3 = arr.std()\n",
    "\n",
    "    # calculate max\n",
    "    max1 = arr.max(axis=0).tolist()\n",
    "    max2 = arr.max(axis=1).tolist()\n",
    "    max3 = arr.max()\n",
    "\n",
    "    # calculate min\n",
    "    min1 = arr.min(axis=0).tolist()\n",
    "    min2 = arr.min(axis=1).tolist()\n",
    "    min3 = arr.min()\n",
    "\n",
    "    # calculate sum\n",
    "    sum1 = arr.sum(axis=0).tolist()\n",
    "    sum2 = arr.sum(axis=1).tolist()\n",
    "    sum3 = arr.sum()\n",
    "\n",
    "    calculations = {\n",
    "        'mean': [mean1, mean2, mean3],\n",
    "        'variance': [var1, var2, var3],\n",
    "        'standard deviation': [sd1, sd2, sd3],\n",
    "        'max': [max1, max2, max3],\n",
    "        'min': [min1, min2, min3],\n",
    "        'sum': [sum1, sum2, sum3]\n",
    "    }\n",
    "    return calculations\n",
    "  except:\n",
    "    raise ValueError('List must contain nine numbers.')"
   ]
  },
  {
   "cell_type": "code",
   "execution_count": 3,
   "metadata": {},
   "outputs": [
    {
     "data": {
      "text/plain": [
       "{'mean': [[3.0, 4.0, 5.0], [1.0, 4.0, 7.0], 4.0],\n",
       " 'variance': [[6.0, 6.0, 6.0],\n",
       "  [0.6666666666666666, 0.6666666666666666, 0.6666666666666666],\n",
       "  6.666666666666667],\n",
       " 'standard deviation': [[2.449489742783178,\n",
       "   2.449489742783178,\n",
       "   2.449489742783178],\n",
       "  [0.816496580927726, 0.816496580927726, 0.816496580927726],\n",
       "  2.581988897471611],\n",
       " 'max': [[6, 7, 8], [2, 5, 8], 8],\n",
       " 'min': [[0, 1, 2], [0, 3, 6], 0],\n",
       " 'sum': [[9, 12, 15], [3, 12, 21], 36]}"
      ]
     },
     "execution_count": 3,
     "metadata": {},
     "output_type": "execute_result"
    }
   ],
   "source": [
    "# test case 1\n",
    "calculate([0,1,2,3,4,5,6,7,8])"
   ]
  },
  {
   "cell_type": "code",
   "execution_count": 5,
   "metadata": {},
   "outputs": [
    {
     "data": {
      "text/plain": [
       "{'mean': [[3.6666666666666665, 5.0, 3.0],\n",
       "  [3.3333333333333335, 4.0, 4.333333333333333],\n",
       "  3.888888888888889],\n",
       " 'variance': [[9.555555555555557, 0.6666666666666666, 8.666666666666666],\n",
       "  [3.555555555555556, 10.666666666666666, 6.222222222222221],\n",
       "  6.987654320987654],\n",
       " 'standard deviation': [[3.091206165165235,\n",
       "   0.816496580927726,\n",
       "   2.943920288775949],\n",
       "  [1.8856180831641267, 3.265986323710904, 2.494438257849294],\n",
       "  2.6434171674156266],\n",
       " 'max': [[8, 6, 7], [6, 8, 7], 8],\n",
       " 'min': [[1, 4, 0], [2, 0, 1], 0],\n",
       " 'sum': [[11, 15, 9], [10, 12, 13], 35]}"
      ]
     },
     "execution_count": 5,
     "metadata": {},
     "output_type": "execute_result"
    }
   ],
   "source": [
    "# test case 2\n",
    "calculate([2,6,2,8,4,0,1,5,7])"
   ]
  },
  {
   "cell_type": "code",
   "execution_count": 7,
   "metadata": {},
   "outputs": [
    {
     "data": {
      "text/plain": [
       "{'mean': [[4.666666666666667, 4.333333333333333, 2.6666666666666665],\n",
       "  [5.0, 3.0, 3.6666666666666665],\n",
       "  3.888888888888889],\n",
       " 'variance': [[9.555555555555555, 11.555555555555557, 4.222222222222222],\n",
       "  [10.666666666666666, 0.0, 14.888888888888891],\n",
       "  9.209876543209875],\n",
       " 'standard deviation': [[3.0912061651652345,\n",
       "   3.39934634239519,\n",
       "   2.0548046676563256],\n",
       "  [3.265986323710904, 0.0, 3.8586123009300755],\n",
       "  3.0347778408328137],\n",
       " 'max': [[9, 9, 5], [9, 3, 9], 9],\n",
       " 'min': [[2, 1, 0], [1, 3, 0], 0],\n",
       " 'sum': [[14, 13, 8], [15, 9, 11], 35]}"
      ]
     },
     "execution_count": 7,
     "metadata": {},
     "output_type": "execute_result"
    }
   ],
   "source": [
    "# test case 3\n",
    "calculate([9,1,5,3,3,3,2,9,0])"
   ]
  },
  {
   "cell_type": "code",
   "execution_count": 8,
   "metadata": {},
   "outputs": [
    {
     "ename": "ValueError",
     "evalue": "List must contain nine numbers.",
     "output_type": "error",
     "traceback": [
      "\u001b[1;31m---------------------------------------------------------------------------\u001b[0m",
      "\u001b[1;31mValueError\u001b[0m                                Traceback (most recent call last)",
      "\u001b[1;32mc:\\Users\\nguye\\Documents\\Projects\\Small Project\\freecodecamp\\Data Analysis with Python\\1. Mean-Variance-Standard Deviation Calculator\\mean_var_std.ipynb Cell 6\u001b[0m in \u001b[0;36mcalculate\u001b[1;34m(list)\u001b[0m\n\u001b[0;32m      <a href='vscode-notebook-cell:/c%3A/Users/nguye/Documents/Projects/Small%20Project/freecodecamp/Data%20Analysis%20with%20Python/1.%20Mean-Variance-Standard%20Deviation%20Calculator/mean_var_std.ipynb#W5sZmlsZQ%3D%3D?line=2'>3</a>\u001b[0m \u001b[39mtry\u001b[39;00m:\n\u001b[1;32m----> <a href='vscode-notebook-cell:/c%3A/Users/nguye/Documents/Projects/Small%20Project/freecodecamp/Data%20Analysis%20with%20Python/1.%20Mean-Variance-Standard%20Deviation%20Calculator/mean_var_std.ipynb#W5sZmlsZQ%3D%3D?line=3'>4</a>\u001b[0m   arr \u001b[39m=\u001b[39m np\u001b[39m.\u001b[39;49marray(\u001b[39mlist\u001b[39;49m)\u001b[39m.\u001b[39;49mreshape(\u001b[39m3\u001b[39;49m, \u001b[39m3\u001b[39;49m)\n\u001b[0;32m      <a href='vscode-notebook-cell:/c%3A/Users/nguye/Documents/Projects/Small%20Project/freecodecamp/Data%20Analysis%20with%20Python/1.%20Mean-Variance-Standard%20Deviation%20Calculator/mean_var_std.ipynb#W5sZmlsZQ%3D%3D?line=5'>6</a>\u001b[0m   \u001b[39m# calculate mean\u001b[39;00m\n",
      "\u001b[1;31mValueError\u001b[0m: cannot reshape array of size 7 into shape (3,3)",
      "\nDuring handling of the above exception, another exception occurred:\n",
      "\u001b[1;31mValueError\u001b[0m                                Traceback (most recent call last)",
      "\u001b[1;32mc:\\Users\\nguye\\Documents\\Projects\\Small Project\\freecodecamp\\Data Analysis with Python\\1. Mean-Variance-Standard Deviation Calculator\\mean_var_std.ipynb Cell 6\u001b[0m in \u001b[0;36m<cell line: 2>\u001b[1;34m()\u001b[0m\n\u001b[0;32m      <a href='vscode-notebook-cell:/c%3A/Users/nguye/Documents/Projects/Small%20Project/freecodecamp/Data%20Analysis%20with%20Python/1.%20Mean-Variance-Standard%20Deviation%20Calculator/mean_var_std.ipynb#W5sZmlsZQ%3D%3D?line=0'>1</a>\u001b[0m \u001b[39m# test case 4\u001b[39;00m\n\u001b[1;32m----> <a href='vscode-notebook-cell:/c%3A/Users/nguye/Documents/Projects/Small%20Project/freecodecamp/Data%20Analysis%20with%20Python/1.%20Mean-Variance-Standard%20Deviation%20Calculator/mean_var_std.ipynb#W5sZmlsZQ%3D%3D?line=1'>2</a>\u001b[0m calculate([\u001b[39m2\u001b[39;49m,\u001b[39m6\u001b[39;49m,\u001b[39m2\u001b[39;49m,\u001b[39m8\u001b[39;49m,\u001b[39m4\u001b[39;49m,\u001b[39m0\u001b[39;49m,\u001b[39m1\u001b[39;49m,])\n",
      "\u001b[1;32mc:\\Users\\nguye\\Documents\\Projects\\Small Project\\freecodecamp\\Data Analysis with Python\\1. Mean-Variance-Standard Deviation Calculator\\mean_var_std.ipynb Cell 6\u001b[0m in \u001b[0;36mcalculate\u001b[1;34m(list)\u001b[0m\n\u001b[0;32m     <a href='vscode-notebook-cell:/c%3A/Users/nguye/Documents/Projects/Small%20Project/freecodecamp/Data%20Analysis%20with%20Python/1.%20Mean-Variance-Standard%20Deviation%20Calculator/mean_var_std.ipynb#W5sZmlsZQ%3D%3D?line=43'>44</a>\u001b[0m   \u001b[39mreturn\u001b[39;00m calculations\n\u001b[0;32m     <a href='vscode-notebook-cell:/c%3A/Users/nguye/Documents/Projects/Small%20Project/freecodecamp/Data%20Analysis%20with%20Python/1.%20Mean-Variance-Standard%20Deviation%20Calculator/mean_var_std.ipynb#W5sZmlsZQ%3D%3D?line=44'>45</a>\u001b[0m \u001b[39mexcept\u001b[39;00m:\n\u001b[1;32m---> <a href='vscode-notebook-cell:/c%3A/Users/nguye/Documents/Projects/Small%20Project/freecodecamp/Data%20Analysis%20with%20Python/1.%20Mean-Variance-Standard%20Deviation%20Calculator/mean_var_std.ipynb#W5sZmlsZQ%3D%3D?line=45'>46</a>\u001b[0m   \u001b[39mraise\u001b[39;00m \u001b[39mValueError\u001b[39;00m(\u001b[39m'\u001b[39m\u001b[39mList must contain nine numbers.\u001b[39m\u001b[39m'\u001b[39m)\n",
      "\u001b[1;31mValueError\u001b[0m: List must contain nine numbers."
     ]
    }
   ],
   "source": [
    "# test case with fewer digits\n",
    "calculate([2,6,2,8,4,0,1,])"
   ]
  }
 ],
 "metadata": {
  "kernelspec": {
   "display_name": "Python 3.9.7 ('base')",
   "language": "python",
   "name": "python3"
  },
  "language_info": {
   "codemirror_mode": {
    "name": "ipython",
    "version": 3
   },
   "file_extension": ".py",
   "mimetype": "text/x-python",
   "name": "python",
   "nbconvert_exporter": "python",
   "pygments_lexer": "ipython3",
   "version": "3.9.12"
  },
  "orig_nbformat": 4,
  "vscode": {
   "interpreter": {
    "hash": "960f2ae499b536958d588fcafb5f9e40dd995fc898e4b79db932caf22756042a"
   }
  }
 },
 "nbformat": 4,
 "nbformat_minor": 2
}
